{
 "cells": [
  {
   "cell_type": "code",
   "execution_count": 1,
   "metadata": {},
   "outputs": [],
   "source": [
    "import os, shutil\n",
    "from modelarts.session import Session\n",
    "start_dir = os.getcwd()\n",
    "\n",
    "if 'coding 4' not in os.listdir(start_dir):\n",
    "    sess = Session()\n",
    "    if sess.region_name == 'cn-north-4':\n",
    "        path1 = \"/cv-course-public/coding 4/\"\n",
    "    else:\n",
    "        print(\"Please switch the region to bj4\")\n",
    "    sess.download_data(bucket_path=path1, path=\"./\")"
   ]
  },
  {
   "cell_type": "code",
   "execution_count": 2,
   "metadata": {},
   "outputs": [
    {
     "name": "stdout",
     "output_type": "stream",
     "text": [
      "Requirement already satisfied: torch==0.3.1 in /home/ma-user/anaconda3/envs/Pytorch-1.0.0/lib/python3.6/site-packages\n",
      "Requirement already satisfied: torchvision==0.2.0 in /home/ma-user/anaconda3/envs/Pytorch-1.0.0/lib/python3.6/site-packages\n",
      "Requirement already satisfied: numpy in /home/ma-user/anaconda3/envs/Pytorch-1.0.0/lib/python3.6/site-packages (from torch==0.3.1)\n",
      "Requirement already satisfied: pyyaml in /home/ma-user/anaconda3/envs/Pytorch-1.0.0/lib/python3.6/site-packages (from torch==0.3.1)\n",
      "Requirement already satisfied: pillow>=4.1.1 in /home/ma-user/anaconda3/envs/Pytorch-1.0.0/lib/python3.6/site-packages (from torchvision==0.2.0)\n",
      "Requirement already satisfied: six in /home/ma-user/anaconda3/envs/Pytorch-1.0.0/lib/python3.6/site-packages (from torchvision==0.2.0)\n",
      "\u001b[33mYou are using pip version 9.0.1, however version 19.3.1 is available.\n",
      "You should consider upgrading via the 'pip install --upgrade pip' command.\u001b[0m\n"
     ]
    }
   ],
   "source": [
    "!pip install torch==0.3.1 torchvision==0.2.0 -f https://download.pytorch.org/whl/torch_stable.html\n",
    "# this basic cide required specific pytorch version: torch==0.3.1 torchvision==0.2.0, So let's install it"
   ]
  },
  {
   "cell_type": "code",
   "execution_count": 3,
   "metadata": {},
   "outputs": [],
   "source": [
    "# CODE UNZIP\n",
    "\n",
    "os.chdir(start_dir)\n",
    "workGl_dir = os.getcwd()\n",
    "path_to_code = '/coding 4/codebase'\n",
    "path_code = os.getcwd() + path_to_code\n",
    "os.chdir(path_code)\n",
    "\n",
    "files_in_current_dir = os.listdir()\n",
    "# print(files_in_current_dir)\n",
    "\n",
    "# list_to_unzip = [i for i in files_in_current_dir if i[-4:] == '.zip']\n",
    "# # print(list_to_unzip)\n",
    "\n",
    "# for i in [a for a in files_in_current_dir if os.path.isdir(a) is True]:\n",
    "#     print(i)\n",
    "#     list_to_unzip.remove(i + \".zip\")\n",
    "    \n",
    "# if len(list_to_unzip) > 0:\n",
    "#     for i in list_to_unzip:\n",
    "#         if i == 'PC-DARTS-master.zip':\n",
    "#             !unzip PC-DARTS-master.zip\n",
    "#         elif i == 'darts-master.zip':\n",
    "#             !unzip darts-master.zip\n",
    "#         elif i == 'pdarts-master.zip':\n",
    "#             !unzip pdarts-master.zip\n",
    "#         else:\n",
    "#             print('Unknown zip)')\n",
    "\n",
    "# print(os.getcwd())\n",
    "path_PC_DARTS = os.getcwd() + '/PC-DARTS-master'\n",
    "path_darts = os.getcwd() + '/darts-master'\n",
    "path_pdarts = os.getcwd() + '/pdarts-master'\n"
   ]
  },
  {
   "cell_type": "code",
   "execution_count": 4,
   "metadata": {},
   "outputs": [
    {
     "name": "stdout",
     "output_type": "stream",
     "text": [
      "['.ipynb_checkpoints', 'cifar-100-python.tar.gz', 'cifar-10-python.tar.gz', 'cifar-10-batches-py']\n",
      "unzip:  cannot find or open SR_testing_datasets.zip, SR_testing_datasets.zip.zip or SR_testing_datasets.zip.ZIP.\n",
      "unzip:  cannot find or open SR_testing_datasets.zip, SR_testing_datasets.zip.zip or SR_testing_datasets.zip.ZIP.\n",
      "/home/ma-user/work/coding 4/datasets\n"
     ]
    }
   ],
   "source": [
    "# # DATA UNZIP\n",
    "\n",
    "os.chdir(start_dir)\n",
    "workGl_dir = os.getcwd()\n",
    "path_to_datasets = '/coding 4/datasets'\n",
    "path_datasets = os.getcwd() + path_to_datasets\n",
    "os.chdir(path_datasets)\n",
    "\n",
    "files_in_current_dir = os.listdir()\n",
    "print(files_in_current_dir)\n",
    "\n",
    "data_inSR_zip = ['cifar-100-python1.tar.gz', 'cifar-10-python1.tar.gz']\n",
    "for i in data_inSR_zip:\n",
    "    if i not in files_in_current_dir:\n",
    "        !unzip SR_testing_datasets.zip\n",
    "print(os.getcwd())\n"
   ]
  },
  {
   "cell_type": "code",
   "execution_count": null,
   "metadata": {},
   "outputs": [],
   "source": []
  },
  {
   "cell_type": "code",
   "execution_count": 5,
   "metadata": {},
   "outputs": [],
   "source": [
    "os.chdir(path_PC_DARTS)"
   ]
  },
  {
   "cell_type": "code",
   "execution_count": 6,
   "metadata": {},
   "outputs": [],
   "source": [
    "# если не указать правильное место cifar, то он захочет его качать с Downloading https://www.cs.toronto.edu/~kriz/cifar-10-python.tar.gz to ../data/cifar-10-python.tar.gz"
   ]
  },
  {
   "cell_type": "code",
   "execution_count": 7,
   "metadata": {
    "scrolled": true
   },
   "outputs": [],
   "source": [
    "# !python train_search.py --data \"/home/ma-user/work/coding 4/datasets\" --cutout"
   ]
  },
  {
   "cell_type": "code",
   "execution_count": 8,
   "metadata": {
    "scrolled": true
   },
   "outputs": [],
   "source": [
    "# !python train.py --data \"/home/ma-user/work/coding 4/datasets\" --auxiliary --cutout "
   ]
  },
  {
   "cell_type": "code",
   "execution_count": 15,
   "metadata": {},
   "outputs": [
    {
     "data": {
      "text/plain": [
       "'/home/ma-user/work/coding 4/codebase/PC-DARTS-master'"
      ]
     },
     "execution_count": 15,
     "metadata": {},
     "output_type": "execute_result"
    }
   ],
   "source": [
    "os.getcwd()"
   ]
  },
  {
   "cell_type": "code",
   "execution_count": 16,
   "metadata": {},
   "outputs": [
    {
     "name": "stdout",
     "output_type": "stream",
     "text": [
      "12/24 09:16:32 PM gpu device = 0\n",
      "12/24 09:16:32 PM args = Namespace(arch='PCDARTS', auxiliary=True, batch_size=96, cutout=True, cutout_length=16, data='/home/ma-user/work/coding 4/datasets', drop_path_prob=0.2, gpu=0, init_channels=36, layers=20, model_path='/home/ma-user/work/coding 4/codebase/PC-DARTS-master/eval-EXP-20191224-091605/weights.pt', report_freq=50, seed=0)\n",
      "108 108 36\n",
      "108 144 36\n",
      "144 144 36\n",
      "144 144 36\n",
      "144 144 36\n",
      "144 144 36\n",
      "144 144 72\n",
      "144 288 72\n",
      "288 288 72\n",
      "288 288 72\n",
      "288 288 72\n",
      "288 288 72\n",
      "288 288 72\n",
      "288 288 144\n",
      "288 576 144\n",
      "576 576 144\n",
      "576 576 144\n",
      "576 576 144\n",
      "576 576 144\n",
      "576 576 144\n",
      "12/24 09:16:34 PM param size = 3.634678MB\n",
      "Files already downloaded and verified\n",
      "12/24 09:16:37 PM test 000 2.592568e-01 92.708328 100.000000\n",
      "12/24 09:16:42 PM test 050 2.309848e-01 92.892154 99.816176\n",
      "12/24 09:16:47 PM test 100 2.293418e-01 92.780525 99.804042\n",
      "12/24 09:16:48 PM test_acc 92.819997\n"
     ]
    }
   ],
   "source": [
    "!python test.py --data \"/home/ma-user/work/coding 4/datasets\" --auxiliary --cutout --arch PCDARTS --model_path \"/home/ma-user/work/coding 4/codebase/PC-DARTS-master/eval-EXP-20191224-091605/weights.pt\""
   ]
  },
  {
   "cell_type": "code",
   "execution_count": 12,
   "metadata": {},
   "outputs": [],
   "source": [
    "!python visualize.py PCDARTS"
   ]
  },
  {
   "cell_type": "code",
   "execution_count": null,
   "metadata": {},
   "outputs": [],
   "source": []
  }
 ],
 "metadata": {
  "kernelspec": {
   "display_name": "Pytorch-1.0.0",
   "language": "python",
   "name": "pytorch-1.0.0"
  },
  "language_info": {
   "codemirror_mode": {
    "name": "ipython",
    "version": 3
   },
   "file_extension": ".py",
   "mimetype": "text/x-python",
   "name": "python",
   "nbconvert_exporter": "python",
   "pygments_lexer": "ipython3",
   "version": "3.6.4"
  }
 },
 "nbformat": 4,
 "nbformat_minor": 2
}
