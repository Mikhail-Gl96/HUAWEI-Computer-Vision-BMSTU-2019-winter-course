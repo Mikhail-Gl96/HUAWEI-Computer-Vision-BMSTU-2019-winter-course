{
 "cells": [
  {
   "cell_type": "code",
   "execution_count": 1,
   "metadata": {},
   "outputs": [],
   "source": [
    "import os\n",
    "abs_path_start = os.getcwd()"
   ]
  },
  {
   "cell_type": "code",
   "execution_count": 7,
   "metadata": {},
   "outputs": [
    {
     "name": "stdout",
     "output_type": "stream",
     "text": [
      "Successfully upload file /home/ma-user/work/img.zip to OBS bmstu-course/060\n"
     ]
    }
   ],
   "source": [
    "# download data from OBS\n",
    "from modelarts.session import Session\n",
    "sess = Session()\n",
    "if sess.region_name == 'cn-north-4':\n",
    "    path1 = f\"/bmstu-course/060/\"\n",
    "#     sess.download_data(bucket_path=path1, path=\"./\")\n",
    "    sess.upload_data( path1, abs_path_start + \"/img.zip\")\n",
    "else:\n",
    "    print(\"Please switch the region to bj4\")"
   ]
  },
  {
   "cell_type": "code",
   "execution_count": null,
   "metadata": {},
   "outputs": [],
   "source": []
  },
  {
   "cell_type": "code",
   "execution_count": null,
   "metadata": {},
   "outputs": [],
   "source": []
  }
 ],
 "metadata": {
  "kernelspec": {
   "display_name": "Pytorch-1.0.0",
   "language": "python",
   "name": "pytorch-1.0.0"
  },
  "language_info": {
   "codemirror_mode": {
    "name": "ipython",
    "version": 3
   },
   "file_extension": ".py",
   "mimetype": "text/x-python",
   "name": "python",
   "nbconvert_exporter": "python",
   "pygments_lexer": "ipython3",
   "version": "3.6.4"
  }
 },
 "nbformat": 4,
 "nbformat_minor": 2
}
